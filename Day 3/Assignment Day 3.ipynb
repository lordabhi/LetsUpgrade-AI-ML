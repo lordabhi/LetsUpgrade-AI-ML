{
 "cells": [
  {
   "cell_type": "code",
   "execution_count": 1,
   "metadata": {},
   "outputs": [
    {
     "data": {
      "text/plain": [
       "'C:\\\\Users\\\\Akhaitan'"
      ]
     },
     "execution_count": 1,
     "metadata": {},
     "output_type": "execute_result"
    }
   ],
   "source": [
    "import os\n",
    "os.getcwd()"
   ]
  },
  {
   "cell_type": "code",
   "execution_count": 5,
   "metadata": {},
   "outputs": [],
   "source": [
    "os.chdir('C:\\\\Users\\\\Akhaitan\\\\LetsUpgrade\\\\Assignments\\Day 3')"
   ]
  },
  {
   "cell_type": "markdown",
   "metadata": {},
   "source": [
    "Question 1 :\n",
    "Write a program to subtract two complex numbers in Python.\n",
    "\n"
   ]
  },
  {
   "cell_type": "code",
   "execution_count": 8,
   "metadata": {},
   "outputs": [
    {
     "name": "stdout",
     "output_type": "stream",
     "text": [
      "(-6+0j)\n"
     ]
    }
   ],
   "source": [
    "a = 4 + 6j\n",
    "b = 10+6j\n",
    "r=a-b\n",
    "print(r)"
   ]
  },
  {
   "cell_type": "markdown",
   "metadata": {},
   "source": [
    "Question 2 :\n",
    "Write a program to find the fourth root of a number."
   ]
  },
  {
   "cell_type": "code",
   "execution_count": 39,
   "metadata": {},
   "outputs": [
    {
     "name": "stdout",
     "output_type": "stream",
     "text": [
      "2.0\n",
      "2.0\n"
     ]
    }
   ],
   "source": [
    "# Option 1\n",
    "n = 16\n",
    "fourthroot = n ** (1/4)\n",
    "print(fourthroot)\n",
    "\n",
    "# Option 2\n",
    "import math\n",
    "fourthroot2 = math.sqrt(math.sqrt(n))\n",
    "print(fourthroot2)\n",
    "\n"
   ]
  },
  {
   "cell_type": "markdown",
   "metadata": {},
   "source": [
    "Question 3:\n",
    "Write a program to swap two numbers in Python with the help of a temporary variable."
   ]
  },
  {
   "cell_type": "code",
   "execution_count": 16,
   "metadata": {},
   "outputs": [
    {
     "name": "stdout",
     "output_type": "stream",
     "text": [
      "Original:   a is  4  and b is  6\n",
      "After swap: a is  6  and b is  4\n"
     ]
    }
   ],
   "source": [
    "a = 4\n",
    "b = 6\n",
    "print(\"Original:   a is \", a , \" and b is \" , b )\n",
    "c = a\n",
    "a = b\n",
    "b = c\n",
    "print(\"After swap: a is \", a , \" and b is \" , b )\n"
   ]
  },
  {
   "cell_type": "markdown",
   "metadata": {},
   "source": [
    "Question 5:\n",
    "Write a program to convert fahrenheit to kelvin and celsius both."
   ]
  },
  {
   "cell_type": "code",
   "execution_count": 22,
   "metadata": {},
   "outputs": [
    {
     "name": "stdout",
     "output_type": "stream",
     "text": [
      "Temperature in Fahrenheit:  50  F\n",
      "Temperature in Kelvin:  283.15  K\n",
      "Temperature in Celcius:  10.0  C\n"
     ]
    }
   ],
   "source": [
    "fahrenheit = 50\n",
    "kelvin = (fahrenheit + 459.67) * 5/9\n",
    "celcius = (fahrenheit - 32) * 5/9\n",
    "\n",
    "print(\"Temperature in Fahrenheit: \", fahrenheit, \" F\")\n",
    "print(\"Temperature in Kelvin: \", kelvin, \" K\")\n",
    "print(\"Temperature in Celcius: \", celcius, \" C\")"
   ]
  },
  {
   "cell_type": "markdown",
   "metadata": {},
   "source": [
    "Question 6:\n",
    "Write a program to demonstrate all the available data types in Python. Hint: Use type() function."
   ]
  },
  {
   "cell_type": "code",
   "execution_count": 30,
   "metadata": {},
   "outputs": [
    {
     "name": "stdout",
     "output_type": "stream",
     "text": [
      "<class 'int'>\n",
      "<class 'complex'>\n",
      "<class 'float'>\n",
      "<class 'str'>\n",
      "<class 'list'>\n",
      "<class 'tuple'>\n",
      "<class 'set'>\n",
      "<class 'dict'>\n"
     ]
    }
   ],
   "source": [
    "print(type(10))\n",
    "print(type(4 + 2j))\n",
    "print(type(4.22))\n",
    "print(type(\"India\"))\n",
    "print(type([1,2,3,4]))\n",
    "print(type((1,2,3,4)))\n",
    "print(type({1,2,3,4}))\n",
    "print(type({1:2}))"
   ]
  },
  {
   "cell_type": "markdown",
   "metadata": {},
   "source": [
    "Question 7:\n",
    "Create a Markdown cell in jupyter and list the steps discussed in the session by Dr. Darshan\n",
    "Ingle sir to create Github profile and upload Githubs Assignment link.\n"
   ]
  },
  {
   "cell_type": "markdown",
   "metadata": {},
   "source": [
    "1. Create a folder 'Day 3' (for Day 3 assignment) and save the assignment file in it.\n",
    "2. Go to github.com and create a profile\n",
    "3. Click on 'New' and create a new repository\n",
    "4. Repository name should be 'LetsUpgrade AI-ML'\n",
    "5. Add 'Assignments' under Description\n",
    "6. Leave everything default (The repository should be Public)\n",
    "7. A 'LetsUpgrade AI-ML' folder will be created in github under the profile.\n",
    "8. Click on upload an existing file.\n",
    "9. Select the assignment folder and drag and drop.\n",
    "10. Click on 'Commit Changes'."
   ]
  }
 ],
 "metadata": {
  "kernelspec": {
   "display_name": "Python 3",
   "language": "python",
   "name": "python3"
  },
  "language_info": {
   "codemirror_mode": {
    "name": "ipython",
    "version": 3
   },
   "file_extension": ".py",
   "mimetype": "text/x-python",
   "name": "python",
   "nbconvert_exporter": "python",
   "pygments_lexer": "ipython3",
   "version": "3.7.6"
  }
 },
 "nbformat": 4,
 "nbformat_minor": 4
}
