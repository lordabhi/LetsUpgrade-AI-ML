{
 "cells": [
  {
   "cell_type": "markdown",
   "metadata": {},
   "source": [
    "# Assignment Day 4"
   ]
  },
  {
   "cell_type": "markdown",
   "metadata": {},
   "source": [
    "## Question 1 : \n",
    "Research on whether addition, subtraction, multiplication, division, floor division and modulo \n",
    "perations be performed on complex numbers. Based on your study, implement a Python program to demonstrate these operations. \n",
    "\n"
   ]
  },
  {
   "cell_type": "code",
   "execution_count": 11,
   "metadata": {},
   "outputs": [
    {
     "name": "stdout",
     "output_type": "stream",
     "text": [
      "(8+6j)\n",
      "(4+2j)\n",
      "(4+20j)\n",
      "(2.5-0.5j)\n"
     ]
    }
   ],
   "source": [
    "cn1 = 6 + 4j\n",
    "cn2 = 2 + 2j\n",
    "\n",
    "# Addition\n",
    "cadd = cn1 + cn2\n",
    "print(cadd)\n",
    "\n",
    "# Subtraction\n",
    "csub = cn1 - cn2\n",
    "print(csub)\n",
    "\n",
    "\n",
    "# Multiplication\n",
    "cmul = cn1 * cn2\n",
    "print(cmul)\n",
    "\n",
    "# Division\n",
    "cdiv = cn1 / cn2\n",
    "print(cdiv)\n",
    "\n",
    "# Floor Division\n",
    "#cfdiv = cn1 // cn2\n",
    "#print(cfdiv) ## Error - FLOOR DIVISION OPERATION IS NOT SUPPORTED FOR COMPLEX NUMBERS\n",
    "\n",
    "# Modulo \n",
    "#cmod = cn1 % cn2\n",
    "#print(cmod) ## Error - MODULO OPERATION IS NOT SUPPORTED FOR COMPLEX NUMBERS\n"
   ]
  },
  {
   "cell_type": "markdown",
   "metadata": {},
   "source": [
    "## Question 2 : \n",
    "\n",
    "Research on range() functions and its parameters. Create a markdown cell and write in your own words (no copy-paste from google please) what you understand about it. Implement a small program of your choice on the same. "
   ]
  },
  {
   "cell_type": "markdown",
   "metadata": {},
   "source": [
    "## Answer 2\n",
    "\n",
    "The range function in python is used to generate a sequence of numbers. It is used with for loop. \n",
    "The range function takes in three arguments - start, stop, step. Start and step are optional. It generates the sequence of numbers from start to stop -1. If start is not specified, start is assumed as 0."
   ]
  },
  {
   "cell_type": "code",
   "execution_count": 27,
   "metadata": {},
   "outputs": [
    {
     "name": "stdout",
     "output_type": "stream",
     "text": [
      "With start, stop and step:\n",
      "1\n",
      "3\n",
      "5\n",
      "7\n",
      "9\n",
      "\n",
      "With Stop:\n",
      "0\n",
      "1\n",
      "2\n",
      "3\n",
      "4\n",
      "5\n",
      "6\n",
      "7\n",
      "8\n",
      "9\n",
      "\n",
      "With start and stop:\n",
      "2\n",
      "3\n",
      "4\n",
      "5\n",
      "6\n",
      "7\n",
      "8\n",
      "9\n"
     ]
    }
   ],
   "source": [
    "# With start, stop and step\n",
    "print(\"With start, stop and step:\", end=\"\\n\")\n",
    "x = range(1,10,2)\n",
    "for i in x:\n",
    "    print(i) \n",
    "\n",
    "print(\"\", end=\"\\n\")\n",
    "\n",
    "# With stop    \n",
    "print(\"With Stop:\", end=\"\\n\")\n",
    "s = range(10)\n",
    "for i in s:\n",
    "    print(i) \n",
    "\n",
    "print(\"\", end=\"\\n\")\n",
    "\n",
    "# With start and stop    \n",
    "print(\"With start and stop:\", end=\"\\n\")\n",
    "t = range(2, 10)\n",
    "for i in t:\n",
    "    print(i)     \n",
    "    \n",
    "\n",
    "    "
   ]
  },
  {
   "cell_type": "markdown",
   "metadata": {},
   "source": [
    "## Question 3: \n",
    "Consider two numbers. Perform their subtraction and if the result of subtraction is greater than 25, print their multiplication result else print their division result. \n"
   ]
  },
  {
   "cell_type": "code",
   "execution_count": 30,
   "metadata": {},
   "outputs": [
    {
     "name": "stdout",
     "output_type": "stream",
     "text": [
      "2.0\n"
     ]
    }
   ],
   "source": [
    "n1 = 20\n",
    "n2 = 10\n",
    "\n",
    "n3 = n1 - n2\n",
    "\n",
    "if n3 > 25:\n",
    "    print (n1 * n2)\n",
    "else:\n",
    "    print (n1 / n2)"
   ]
  },
  {
   "cell_type": "markdown",
   "metadata": {},
   "source": [
    "## Question 4: \n",
    "Consider a list of 10 elements of integer values. If the number in the list is divisible by 2, print the \n",
    "result as \"square of that number minus 2\". "
   ]
  },
  {
   "cell_type": "code",
   "execution_count": 34,
   "metadata": {},
   "outputs": [
    {
     "name": "stdout",
     "output_type": "stream",
     "text": [
      "2\n",
      "14\n",
      "34\n",
      "62\n",
      "98\n"
     ]
    }
   ],
   "source": [
    "list1 = range(1,11)\n",
    "for i in list1:\n",
    "    if i%2==0:\n",
    "        print(i**2 - 2)\n",
    "    \n",
    "    "
   ]
  },
  {
   "cell_type": "markdown",
   "metadata": {},
   "source": [
    "## Question 5: \n",
    "Consider a list of 10 elements. Print all the elements in the list which are greater than 7 when that \n",
    "number is divided 2. "
   ]
  },
  {
   "cell_type": "code",
   "execution_count": 43,
   "metadata": {},
   "outputs": [
    {
     "name": "stdout",
     "output_type": "stream",
     "text": [
      "15\n",
      "16\n",
      "17\n",
      "18\n",
      "19\n",
      "20\n"
     ]
    }
   ],
   "source": [
    "list2 = range(11,21)\n",
    "for i in list2:\n",
    "    if i /2 > 7:\n",
    "        print(i)\n",
    "\n",
    "        \n",
    "    "
   ]
  },
  {
   "cell_type": "code",
   "execution_count": null,
   "metadata": {},
   "outputs": [],
   "source": []
  }
 ],
 "metadata": {
  "kernelspec": {
   "display_name": "Python 3",
   "language": "python",
   "name": "python3"
  },
  "language_info": {
   "codemirror_mode": {
    "name": "ipython",
    "version": 3
   },
   "file_extension": ".py",
   "mimetype": "text/x-python",
   "name": "python",
   "nbconvert_exporter": "python",
   "pygments_lexer": "ipython3",
   "version": "3.7.6"
  }
 },
 "nbformat": 4,
 "nbformat_minor": 4
}
