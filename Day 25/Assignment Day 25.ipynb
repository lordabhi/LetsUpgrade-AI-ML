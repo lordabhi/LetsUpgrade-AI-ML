{
 "cells": [
  {
   "cell_type": "code",
   "execution_count": 102,
   "metadata": {},
   "outputs": [],
   "source": [
    "import pandas as pd\n",
    "from sklearn import preprocessing\n",
    "# from sklearn.cross_validation import train_test_split\n",
    "from sklearn.model_selection import train_test_split\n",
    "from sklearn.naive_bayes import GaussianNB\n",
    "from sklearn.metrics import accuracy_score\n",
    "from sklearn.metrics import confusion_matrix\n",
    "from sklearn.naive_bayes import *"
   ]
  },
  {
   "cell_type": "code",
   "execution_count": 103,
   "metadata": {},
   "outputs": [],
   "source": [
    "dataset = pd.read_csv(\"train.csv\")"
   ]
  },
  {
   "cell_type": "code",
   "execution_count": 104,
   "metadata": {},
   "outputs": [
    {
     "data": {
      "text/plain": [
       "Index(['PassengerId', 'Survived', 'Pclass', 'Name', 'Sex', 'Age', 'SibSp',\n",
       "       'Parch', 'Ticket', 'Fare', 'Cabin', 'Embarked'],\n",
       "      dtype='object')"
      ]
     },
     "execution_count": 104,
     "metadata": {},
     "output_type": "execute_result"
    }
   ],
   "source": [
    "dataset.columns"
   ]
  },
  {
   "cell_type": "code",
   "execution_count": 105,
   "metadata": {},
   "outputs": [],
   "source": [
    "le = preprocessing.LabelEncoder()"
   ]
  },
  {
   "cell_type": "code",
   "execution_count": 106,
   "metadata": {},
   "outputs": [
    {
     "data": {
      "text/plain": [
       "LabelEncoder()"
      ]
     },
     "execution_count": 106,
     "metadata": {},
     "output_type": "execute_result"
    }
   ],
   "source": [
    "le.fit(dataset[\"Sex\"])"
   ]
  },
  {
   "cell_type": "code",
   "execution_count": 107,
   "metadata": {},
   "outputs": [
    {
     "name": "stdout",
     "output_type": "stream",
     "text": [
      "['female' 'male']\n"
     ]
    }
   ],
   "source": [
    "print(le.classes_)"
   ]
  },
  {
   "cell_type": "code",
   "execution_count": 108,
   "metadata": {},
   "outputs": [],
   "source": [
    "dataset[\"Sex\"]=le.transform(dataset['Sex'])"
   ]
  },
  {
   "cell_type": "code",
   "execution_count": 109,
   "metadata": {},
   "outputs": [],
   "source": [
    "le.fit(dataset[\"Embarked\"])\n",
    "dataset[\"Embarked\"]=le.transform(dataset['Embarked'])"
   ]
  },
  {
   "cell_type": "code",
   "execution_count": 110,
   "metadata": {},
   "outputs": [],
   "source": [
    "dataset = dataset.drop([\"PassengerId\", \"Name\", \"Cabin\", \"Ticket\"], axis= 1)"
   ]
  },
  {
   "cell_type": "code",
   "execution_count": 111,
   "metadata": {},
   "outputs": [
    {
     "data": {
      "text/plain": [
       "889"
      ]
     },
     "execution_count": 111,
     "metadata": {},
     "output_type": "execute_result"
    }
   ],
   "source": [
    "y.count()"
   ]
  },
  {
   "cell_type": "code",
   "execution_count": 112,
   "metadata": {},
   "outputs": [],
   "source": [
    "IndependentVariables = [\"Survived\",\"Pclass\", \"Sex\", \"SibSp\",\"Parch\", \"Embarked\"]"
   ]
  },
  {
   "cell_type": "code",
   "execution_count": 124,
   "metadata": {},
   "outputs": [
    {
     "name": "stdout",
     "output_type": "stream",
     "text": [
      "Independent Variable:  Survived\n",
      "Accuracy Scrore:  0.7715355805243446\n",
      "Confusion Matrix:  [[131  26]\n",
      " [ 35  75]]\n",
      "----------------------------------------------------------------\n",
      "\n",
      "Independent Variable:  Pclass\n",
      "Accuracy Scrore:  0.5917602996254682\n",
      "Confusion Matrix:  [[ 30   8  32]\n",
      " [  9  10  30]\n",
      " [ 24   6 118]]\n",
      "----------------------------------------------------------------\n",
      "\n",
      "Independent Variable:  Sex\n",
      "Accuracy Scrore:  0.7453183520599251\n",
      "Confusion Matrix:  [[ 49  49]\n",
      " [ 19 150]]\n",
      "----------------------------------------------------------------\n",
      "\n",
      "Independent Variable:  SibSp\n",
      "Accuracy Scrore:  0.6891385767790262\n",
      "Confusion Matrix:  [[162  20   0   0   0   0   0]\n",
      " [ 43  22   0   0   0   0   0]\n",
      " [  6   2   0   0   0   0   0]\n",
      " [  5   2   0   0   0   0   0]\n",
      " [  2   0   0   0   0   0   0]\n",
      " [  1   0   0   0   0   0   0]\n",
      " [  2   0   0   0   0   0   0]]\n",
      "----------------------------------------------------------------\n",
      "\n",
      "Independent Variable:  Parch\n",
      "Accuracy Scrore:  0.7153558052434457\n",
      "Confusion Matrix:  [[182  16   0   0   0]\n",
      " [ 31   9   0   0   0]\n",
      " [ 24   3   0   0   0]\n",
      " [  1   0   0   0   0]\n",
      " [  1   0   0   0   0]]\n",
      "----------------------------------------------------------------\n",
      "\n",
      "Independent Variable:  Embarked\n",
      "Accuracy Scrore:  0.7340823970037453\n",
      "Confusion Matrix:  [[  0   0  49]\n",
      " [  0   0  22]\n",
      " [  0   0 196]]\n",
      "----------------------------------------------------------------\n",
      "\n"
     ]
    }
   ],
   "source": [
    "for iv in IndependentVariables:\n",
    "    print(\"Independent Variable: \", iv )\n",
    "    X = dataset.drop(iv, axis=1)\n",
    "    y = dataset[iv]\n",
    "    X_train, X_test,y_train, y_test = train_test_split(X,y,test_size=0.3,random_state = 0)\n",
    "    clf = BernoulliNB()\n",
    "    y_pred = clf.fit(X_train, y_train).predict(X_test)\n",
    "    print(\"Accuracy Scrore: \", accuracy_score(y_test,y_pred, normalize=True))\n",
    "    print(\"Confusion Matrix: \", confusion_matrix(y_test,y_pred))\n",
    "    print(\"----------------------------------------------------------------\")\n",
    "    print(\"\")\n",
    "\n",
    "    "
   ]
  },
  {
   "cell_type": "code",
   "execution_count": null,
   "metadata": {},
   "outputs": [],
   "source": []
  }
 ],
 "metadata": {
  "kernelspec": {
   "display_name": "Python 3",
   "language": "python",
   "name": "python3"
  },
  "language_info": {
   "codemirror_mode": {
    "name": "ipython",
    "version": 3
   },
   "file_extension": ".py",
   "mimetype": "text/x-python",
   "name": "python",
   "nbconvert_exporter": "python",
   "pygments_lexer": "ipython3",
   "version": "3.7.6"
  }
 },
 "nbformat": 4,
 "nbformat_minor": 4
}
