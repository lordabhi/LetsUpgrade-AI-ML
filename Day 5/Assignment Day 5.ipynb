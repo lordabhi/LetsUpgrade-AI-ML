{
 "cells": [
  {
   "cell_type": "markdown",
   "metadata": {},
   "source": [
    "# Assignment Day 5"
   ]
  },
  {
   "cell_type": "markdown",
   "metadata": {},
   "source": [
    "## Question 1 :\n",
    "Write a Python program to find the first 20 non-even prime natural numbers.\n"
   ]
  },
  {
   "cell_type": "code",
   "execution_count": 39,
   "metadata": {},
   "outputs": [
    {
     "name": "stdout",
     "output_type": "stream",
     "text": [
      "[1, 3, 5, 7, 11, 13, 17, 19, 23, 29, 31, 37, 41, 43, 47, 53, 59, 61, 67, 71]\n"
     ]
    }
   ],
   "source": [
    "def isprime(n):\n",
    "    for x in range(2,n):\n",
    "        if n%x == 0:\n",
    "            return False\n",
    "    return True\n",
    "\n",
    "z = [x for x in range(1,100) if isprime(x)]\n",
    "\n",
    "#Odd and first 20\n",
    "t =   [x for x in z if x % 2 != 0][:20]\n",
    "print(t)\n"
   ]
  },
  {
   "cell_type": "markdown",
   "metadata": {},
   "source": [
    "## Question 2 :\n",
    "Write a Python program to implement 15 functions of string."
   ]
  },
  {
   "cell_type": "code",
   "execution_count": 54,
   "metadata": {},
   "outputs": [
    {
     "name": "stdout",
     "output_type": "stream",
     "text": [
      "Capitalize:  Abhishek khaitan\n",
      "Casefold:  abhishek khaitan\n",
      "Count 'a':  3\n",
      "Endswith 'a':  False\n",
      "Find 'k':  7\n",
      "Index 'k':  7\n",
      "isalnum :  False\n",
      "isalpha :  False\n",
      "isdecimal :  False\n",
      "isdigit :  False\n",
      "islower :  True\n",
      "isnumeric :  False\n",
      "isupper :  False\n",
      "split :  ['abhishek khaitan']\n",
      "startswith :  False\n"
     ]
    }
   ],
   "source": [
    "teststring=\"abhishek khaitan\"\n",
    "\n",
    "#1. capitalize()\tConverts the first character to upper case\n",
    "print(\"Capitalize: \",teststring.capitalize())\n",
    "\n",
    "#2.  casefold()\tConverts string into lower case\n",
    "print(\"Casefold: \",teststring.casefold())\n",
    "\n",
    "\n",
    "#3. count()\tReturns the number of times a specified value occurs in a string\n",
    "print(\"Count 'a': \",teststring.count('a'))\n",
    "\n",
    "\n",
    "#4. endswith()\tReturns true if the string ends with the specified value\n",
    "print(\"Endswith 'a': \",teststring.endswith('a'))\n",
    "\n",
    "\n",
    "#5. find()\tSearches the string for a specified value and returns the position of where it was found\n",
    "print(\"Find 'k': \",teststring.find('k'))\n",
    "\n",
    "\n",
    "#6. index()\tSearches the string for a specified value and returns the position of where it was found\n",
    "print(\"Index 'k': \",teststring.index('k'))\n",
    "\n",
    "#7. isalnum()\tReturns True if all characters in the string are alphanumeric\n",
    "print(\"isalnum : \",teststring.isalnum())\n",
    "\n",
    "\n",
    "#8. isalpha()\tReturns True if all characters in the string are in the alphabet\n",
    "print(\"isalpha : \",teststring.isalpha())\n",
    "\n",
    "\n",
    "#9. isdecimal()\tReturns True if all characters in the string are decimals\n",
    "print(\"isdecimal : \",teststring.isdecimal())\n",
    "\n",
    "#10. isdigit()\tReturns True if all characters in the string are digits\n",
    "print(\"isdigit : \",teststring.isdigit())\n",
    "\n",
    "#11. islower()\tReturns True if all characters in the string are lower case\n",
    "print(\"islower : \",teststring.islower())\n",
    "\n",
    "#12. isnumeric()\tReturns True if all characters in the string are numeric\n",
    "print(\"isnumeric : \",teststring.isnumeric())\n",
    "\n",
    "#13. isupper()\tReturns True if all characters in the string are upper case\n",
    "print(\"isupper : \",teststring.isupper())\n",
    "\n",
    "#14. split()\tSplits the string at the specified separator, and returns a list\n",
    "print(\"split : \",teststring.split(','))\n",
    "\n",
    "#15. startswith()\tReturns true if the string starts with the specified value\n",
    "print(\"startswith : \",teststring.startswith('b'))\n",
    "\n"
   ]
  },
  {
   "cell_type": "markdown",
   "metadata": {},
   "source": [
    "## Question 3:\n",
    "Write a Python program to check if the given string is a Palindrome or Anagram or None of them.\n",
    "Display the message accordingly to the user.\n"
   ]
  },
  {
   "cell_type": "code",
   "execution_count": 69,
   "metadata": {},
   "outputs": [
    {
     "name": "stdout",
     "output_type": "stream",
     "text": [
      "Entered string  malayalam  is Palindrome\n",
      "Entered string  listen    silent  are Anagrams\n",
      "Entered string(s) are neither Palindrome nor Anagram\n"
     ]
    }
   ],
   "source": [
    "# function which return reverse of a string \n",
    "\n",
    "def isPalindrome(s): \n",
    "    return s == s[::-1] \n",
    "\n",
    "\n",
    "def isAnagram(s1, s2): \n",
    "    # the sorted strings are checked \n",
    "    return sorted(s1)== sorted(s2) \n",
    "\n",
    "\n",
    "def stringDetector(s1, s2=\"\"):\n",
    "    palindrome = isPalindrome(s1)\n",
    "    \n",
    "    if palindrome == True:\n",
    "        print(\"Entered string \", s1, \" is Palindrome\")\n",
    "    elif palindrome == False:\n",
    "        anagram = isAnagram(s1, s2)\n",
    "        if anagram:\n",
    "            print(\"Entered string \", s1, \"  \",s2 ,\" are Anagrams\")\n",
    "        else:\n",
    "            print(\"Entered string(s) are neither Palindrome nor Anagram\")\n",
    "    \n",
    "    \n",
    "# Driver code \n",
    "s = \"malayalam\"\n",
    "stringDetector(s) \n",
    "\n",
    "s1 =\"listen\"\n",
    "s2 =\"silent\"\n",
    "stringDetector(s1,s2) \n",
    "\n",
    "stringDetector(\"Three\",\"Four\") \n",
    "    "
   ]
  },
  {
   "cell_type": "markdown",
   "metadata": {},
   "source": [
    "## Question 4:\n",
    "Write a Python's user defined function that removes all the additional characters from the string\n",
    "and converts it finally to lower case using built-in lower(). eg: If the string is \"Dr. Darshan Ingle\n",
    "@AI-ML Trainer\", then the output be \"drdarshaningleaimltrainer\"."
   ]
  },
  {
   "cell_type": "code",
   "execution_count": 97,
   "metadata": {},
   "outputs": [
    {
     "name": "stdout",
     "output_type": "stream",
     "text": [
      "drdarshaningleaimltrainer\n",
      "drdarshaningleaimltrainer\n"
     ]
    }
   ],
   "source": [
    "\n",
    "## OPTION 1:\n",
    "b = \"!@#$-. &*()_+-=<>?:;\"\n",
    "line = \"Dr. Darshan Ingle @AI-ML Trainer\"\n",
    "\n",
    "for char in b:\n",
    "    line = line.replace(char,\"\")\n",
    "print(line.lower())\n",
    "\n",
    "\n",
    "## OPTION 2:\n",
    "\n",
    "line2 = \"Dr. Darshan Ingle @AI-ML Trainer\"\n",
    "delchars = ''.join(c for c in map(chr, range(256)) if not c.isalpha())\n",
    "# scrunched = line2.translate(None, delchars)\n",
    "text = line2.translate(str.maketrans('','',delchars))\n",
    "\n",
    "print(text.lower())\n",
    "\n"
   ]
  },
  {
   "cell_type": "code",
   "execution_count": null,
   "metadata": {},
   "outputs": [],
   "source": []
  }
 ],
 "metadata": {
  "kernelspec": {
   "display_name": "Python 3",
   "language": "python",
   "name": "python3"
  },
  "language_info": {
   "codemirror_mode": {
    "name": "ipython",
    "version": 3
   },
   "file_extension": ".py",
   "mimetype": "text/x-python",
   "name": "python",
   "nbconvert_exporter": "python",
   "pygments_lexer": "ipython3",
   "version": "3.7.6"
  }
 },
 "nbformat": 4,
 "nbformat_minor": 4
}
